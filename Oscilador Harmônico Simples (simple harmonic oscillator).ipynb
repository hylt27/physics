{
 "cells": [
  {
   "cell_type": "markdown",
   "id": "cdfb653a",
   "metadata": {},
   "source": [
    "Problema: Oscilador Harmônico Simples\n",
    "\n",
    "Queremos resolver a seguinte equação diferencial:\n",
    "\n",
    "$m\\frac{d^2x}{dt^2}=-kx$, de condições iniciais $x(t=0)=0$ e $\\frac{dx}{dt}(t=0)=1$, onde m é a massa da partícula e k a constante elástica.\n",
    "\n",
    "Usaremos a EDO na forma $\\frac{d^2x}{dt^2}=-w^2x$, onde $w^2 = \\frac{k}{m}$."
    "Para resolver a equação diferencial faremos uso do sympy e para ver o gráfico usaremos o matplotlib."
   ]
  },
  {
   "cell_type": "code",
   "execution_count": 1,
   "id": "8e92df79",
   "metadata": {},
   "outputs": [],
   "source": [
    "import numpy as np\n",
    "import matplotlib.pyplot as plt\n",
    "import sympy as sp"
   ]
  },
  {
   "cell_type": "code",
   "execution_count": 125,
   "id": "37fde1ee",
   "metadata": {},
   "outputs": [],
   "source": [
    "# Declarar variável e constante\n",
    "t,w = sp.symbols('t w', real=True)"
   ]
  },
  {
   "cell_type": "code",
   "execution_count": 97,
   "id": "1cc1ce7c",
   "metadata": {},
   "outputs": [],
   "source": [
    "# Declarar função x(t)\n",
    "x = sp.Function('x')(t)"
   ]
  },
  {
   "cell_type": "code",
   "execution_count": 98,
   "id": "43d765e6",
   "metadata": {},
   "outputs": [],
   "source": [
    "# Criar equação diferencial\n",
    "edo = sp.Eq(x.diff(t,t)+w**2*x,0)"
   ]
  },
  {
   "cell_type": "code",
   "execution_count": 99,
   "id": "9a3d1f36",
   "metadata": {},
   "outputs": [
    {
     "data": {
      "text/latex": [
       "$\\displaystyle w^{2} x{\\left(t \\right)} + \\frac{d^{2}}{d t^{2}} x{\\left(t \\right)} = 0$"
      ],
      "text/plain": [
       "Eq(w**2*x(t) + Derivative(x(t), (t, 2)), 0)"
      ]
     },
     "execution_count": 99,
     "metadata": {},
     "output_type": "execute_result"
    }
   ],
   "source": [
    "edo"
   ]
  },
  {
   "cell_type": "code",
   "execution_count": 100,
   "id": "7fe07c23",
   "metadata": {},
   "outputs": [],
   "source": [
    "# Encontrar solução\n",
    "sol = sp.dsolve(eq=edo,func=x).rhs"
   ]
  },
  {
   "cell_type": "code",
   "execution_count": 101,
   "id": "b2ea0bf6",
   "metadata": {},
   "outputs": [
    {
     "data": {
      "text/latex": [
       "$\\displaystyle C_{1} \\sin{\\left(t \\left|{w}\\right| \\right)} + C_{2} \\cos{\\left(t w \\right)}$"
      ],
      "text/plain": [
       "C1*sin(t*Abs(w)) + C2*cos(t*w)"
      ]
     },
     "execution_count": 101,
     "metadata": {},
     "output_type": "execute_result"
    }
   ],
   "source": [
    "sol"
   ]
  },
  {
   "cell_type": "code",
   "execution_count": 102,
   "id": "1fe0121e",
   "metadata": {},
   "outputs": [],
   "source": [
    "# Criar dicionário com condições iniciais\n",
    "init_cond = {x.subs(t,0): 0, x.diff().subs(t,0): 1}"
   ]
  },
  {
   "cell_type": "code",
   "execution_count": 103,
   "id": "88c9b696",
   "metadata": {},
   "outputs": [],
   "source": [
    "# Encontrar solução com as condições iniciais\n",
    "solution = sp.dsolve(eq=edo, ics=init_cond).rhs"
   ]
  },
  {
   "cell_type": "code",
   "execution_count": 104,
   "id": "ce056d70",
   "metadata": {},
   "outputs": [
    {
     "data": {
      "text/latex": [
       "$\\displaystyle \\frac{\\sin{\\left(t \\left|{w}\\right| \\right)}}{\\left|{w}\\right|}$"
      ],
      "text/plain": [
       "sin(t*Abs(w))/Abs(w)"
      ]
     },
     "execution_count": 104,
     "metadata": {},
     "output_type": "execute_result"
    }
   ],
   "source": [
    "solution"
   ]
  },
  {
   "cell_type": "code",
   "execution_count": 105,
   "id": "52e1d4c3",
   "metadata": {},
   "outputs": [
    {
     "data": {
      "text/latex": [
       "$\\displaystyle 0$"
      ],
      "text/plain": [
       "0"
      ]
     },
     "execution_count": 105,
     "metadata": {},
     "output_type": "execute_result"
    }
   ],
   "source": [
    "# Checar primeira condição inicial\n",
    "solution.subs(t,0)"
   ]
  },
  {
   "cell_type": "code",
   "execution_count": 106,
   "id": "69bb63c9",
   "metadata": {},
   "outputs": [
    {
     "data": {
      "text/latex": [
       "$\\displaystyle 1$"
      ],
      "text/plain": [
       "1"
      ]
     },
     "execution_count": 106,
     "metadata": {},
     "output_type": "execute_result"
    }
   ],
   "source": [
    "# Checar segunda condição inicial\n",
    "solution.diff(t).subs(t,0)"
   ]
  },
  {
   "cell_type": "code",
   "execution_count": 107,
   "id": "9a152e76",
   "metadata": {},
   "outputs": [
    {
     "data": {
      "text/latex": [
       "$\\displaystyle 0$"
      ],
      "text/plain": [
       "0"
      ]
     },
     "execution_count": 107,
     "metadata": {},
     "output_type": "execute_result"
    }
   ],
   "source": [
    "# Checar se a solução satisfaz a edo\n",
    "(w**2*solution + solution.diff(t,t)).simplify()"
   ]
  },
  {
   "cell_type": "markdown",
   "id": "07d197f5",
   "metadata": {},
   "source": [
    "Agora iremos plotar a solução em função do tempo para ver o comportamento do oscilador harmônico"
   ]
  },
  {
   "cell_type": "code",
   "execution_count": 119,
   "id": "9ecd8920",
   "metadata": {},
   "outputs": [],
   "source": [
    "# Criar array para tempo\n",
    "time = np.linspace(0,10,101)"
   ]
  },
  {
   "cell_type": "code",
   "execution_count": 120,
   "id": "6f944492",
   "metadata": {},
   "outputs": [
    {
     "data": {
      "text/plain": [
       "array([ 0. ,  0.1,  0.2,  0.3,  0.4,  0.5,  0.6,  0.7,  0.8,  0.9,  1. ,\n",
       "        1.1,  1.2,  1.3,  1.4,  1.5,  1.6,  1.7,  1.8,  1.9,  2. ,  2.1,\n",
       "        2.2,  2.3,  2.4,  2.5,  2.6,  2.7,  2.8,  2.9,  3. ,  3.1,  3.2,\n",
       "        3.3,  3.4,  3.5,  3.6,  3.7,  3.8,  3.9,  4. ,  4.1,  4.2,  4.3,\n",
       "        4.4,  4.5,  4.6,  4.7,  4.8,  4.9,  5. ,  5.1,  5.2,  5.3,  5.4,\n",
       "        5.5,  5.6,  5.7,  5.8,  5.9,  6. ,  6.1,  6.2,  6.3,  6.4,  6.5,\n",
       "        6.6,  6.7,  6.8,  6.9,  7. ,  7.1,  7.2,  7.3,  7.4,  7.5,  7.6,\n",
       "        7.7,  7.8,  7.9,  8. ,  8.1,  8.2,  8.3,  8.4,  8.5,  8.6,  8.7,\n",
       "        8.8,  8.9,  9. ,  9.1,  9.2,  9.3,  9.4,  9.5,  9.6,  9.7,  9.8,\n",
       "        9.9, 10. ])"
      ]
     },
     "execution_count": 120,
     "metadata": {},
     "output_type": "execute_result"
    }
   ],
   "source": [
    "time"
   ]
  },
  {
   "cell_type": "code",
   "execution_count": null,
   "id": "0f3d8a30",
   "metadata": {},
   "outputs": [],
   "source": []
  },
  {
   "cell_type": "code",
   "execution_count": 111,
   "id": "229af391",
   "metadata": {},
   "outputs": [],
   "source": [
    "w, _ = tuple(solution.free_symbols)"
   ]
  },
  {
   "cell_type": "code",
   "execution_count": 112,
   "id": "0888a96f",
   "metadata": {},
   "outputs": [
    {
     "data": {
      "text/latex": [
       "$\\displaystyle w$"
      ],
      "text/plain": [
       "w"
      ]
     },
     "execution_count": 112,
     "metadata": {},
     "output_type": "execute_result"
    }
   ],
   "source": [
    "w"
   ]
  },
  {
   "cell_type": "code",
   "execution_count": 113,
   "id": "9fb0f406",
   "metadata": {},
   "outputs": [
    {
     "data": {
      "text/latex": [
       "$\\displaystyle \\sin{\\left(t \\right)}$"
      ],
      "text/plain": [
       "sin(t)"
      ]
     },
     "execution_count": 113,
     "metadata": {},
     "output_type": "execute_result"
    }
   ],
   "source": [
    "# Escolha um valor para w\n",
    "solution.subs(w,1)"
   ]
  },
  {
   "cell_type": "code",
   "execution_count": 114,
   "id": "49e4b42c",
   "metadata": {},
   "outputs": [],
   "source": [
    "solution = solution.subs(w,1)"
   ]
  },
  {
   "cell_type": "code",
   "execution_count": 115,
   "id": "ae965a13",
   "metadata": {},
   "outputs": [
    {
     "data": {
      "text/latex": [
       "$\\displaystyle \\sin{\\left(t \\right)}$"
      ],
      "text/plain": [
       "sin(t)"
      ]
     },
     "execution_count": 115,
     "metadata": {},
     "output_type": "execute_result"
    }
   ],
   "source": [
    "solution"
   ]
  },
  {
   "cell_type": "code",
   "execution_count": 121,
   "id": "80b27f2c",
   "metadata": {},
   "outputs": [],
   "source": [
    "# Criar array para posição do oscilador\n",
    "position = []\n",
    "for i in time:\n",
    "    p = solution.subs(t,i)\n",
    "    position.append(p)"
   ]
  },
  {
   "cell_type": "code",
   "execution_count": 123,
   "id": "7f89af66",
   "metadata": {},
   "outputs": [],
   "source": [
    "#position"
   ]
  },
  {
   "cell_type": "code",
   "execution_count": 129,
   "id": "3ec6b03f",
   "metadata": {},
   "outputs": [
    {
     "data": {
      "image/png": "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\n",
      "text/plain": [
       "<Figure size 432x288 with 1 Axes>"
      ]
     },
     "metadata": {
      "needs_background": "light"
     },
     "output_type": "display_data"
    }
   ],
   "source": [
    "plt.plot(time,position)\n",
    "plt.xlabel('Tempo')\n",
    "plt.ylabel('Posição')\n",
    "plt.title('Oscilador Harmônico');"
   ]
  },
  {
   "cell_type": "markdown",
   "id": "65d3ed3a",
   "metadata": {},
   "source": [
    "Podemos ver que a solução é uma senoidal, o que está de acordo com o movimento do oscilador harmônico. Os picos e vales são as posições onde a massa está com velocidade nula."
   ]
  },
  {
   "cell_type": "code",
   "execution_count": null,
   "id": "a44fd796",
   "metadata": {},
   "outputs": [],
   "source": []
  }
 ],
 "metadata": {
  "kernelspec": {
   "display_name": "Python 3 (ipykernel)",
   "language": "python",
   "name": "python3"
  },
  "language_info": {
   "codemirror_mode": {
    "name": "ipython",
    "version": 3
   },
   "file_extension": ".py",
   "mimetype": "text/x-python",
   "name": "python",
   "nbconvert_exporter": "python",
   "pygments_lexer": "ipython3",
   "version": "3.7.11"
  }
 },
 "nbformat": 4,
 "nbformat_minor": 5
}
